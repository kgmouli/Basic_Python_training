{
  "nbformat": 4,
  "nbformat_minor": 0,
  "metadata": {
    "colab": {
      "provenance": []
    },
    "kernelspec": {
      "name": "python3",
      "display_name": "Python 3"
    },
    "language_info": {
      "name": "python"
    }
  },
  "cells": [
    {
      "cell_type": "code",
      "execution_count": null,
      "metadata": {
        "colab": {
          "base_uri": "https://localhost:8080/"
        },
        "id": "fooBKl8FmcO4",
        "outputId": "a33c4ed9-4ba3-45dd-a40b-b1bc8f0af7a9"
      },
      "outputs": [
        {
          "output_type": "stream",
          "name": "stdout",
          "text": [
            "welcome to Python world\n"
          ]
        }
      ],
      "source": [
        "print(\"welcome to Python world\")"
      ]
    },
    {
      "cell_type": "code",
      "source": [
        "#dynamic\n",
        "\n",
        "a=10\n",
        "print(a)\n",
        "print(id(a))\n",
        "\n",
        "a=3.14\n",
        "print(a)\n",
        "print(id(a))\n",
        "\n",
        "a=\"NTT\"\n",
        "print(a)\n",
        "print(id(a))\n"
      ],
      "metadata": {
        "id": "TX7OqJNLxqdJ",
        "outputId": "0925675a-753e-4c18-9bd5-539cc3a0dc1b",
        "colab": {
          "base_uri": "https://localhost:8080/"
        }
      },
      "execution_count": 3,
      "outputs": [
        {
          "output_type": "stream",
          "name": "stdout",
          "text": [
            "10\n",
            "10751144\n",
            "3.14\n",
            "136330939029232\n",
            "NTT\n",
            "136330523621872\n"
          ]
        }
      ]
    },
    {
      "cell_type": "code",
      "source": [
        "#deleting a variable\n",
        "\n",
        "a=20\n",
        "print(a)\n",
        "del a\n",
        "print(a)\n",
        "\n",
        "\n"
      ],
      "metadata": {
        "id": "kmffSBYJzENa"
      },
      "execution_count": null,
      "outputs": []
    },
    {
      "cell_type": "code",
      "source": [
        "#creating multiple variables\n",
        "\n",
        "a,b,c=10, 3.14, \"NTT\"\n",
        "print(a,b,c)"
      ],
      "metadata": {
        "id": "U_E6Cgq_0mhF",
        "outputId": "fb2fc955-3802-4805-b21c-dbd863c62070",
        "colab": {
          "base_uri": "https://localhost:8080/"
        }
      },
      "execution_count": 8,
      "outputs": [
        {
          "output_type": "stream",
          "name": "stdout",
          "text": [
            "10 3.14 NTT\n"
          ]
        }
      ]
    },
    {
      "cell_type": "code",
      "source": [
        "#assign single values to multiple variables\n",
        "\n",
        "a=b=c=100\n",
        "print(a,b,c)"
      ],
      "metadata": {
        "id": "TKp8UXvl03Bj",
        "outputId": "23e7da81-5aa8-4c49-ac8e-743666a5bc75",
        "colab": {
          "base_uri": "https://localhost:8080/"
        }
      },
      "execution_count": 9,
      "outputs": [
        {
          "output_type": "stream",
          "name": "stdout",
          "text": [
            "100 100 100\n"
          ]
        }
      ]
    },
    {
      "cell_type": "code",
      "source": [
        "# variable annotation\n",
        "\n",
        "a:int=10\n",
        "print(a)\n",
        "print(__annotations__['a'])\n",
        "\n",
        "b:float=31.3\n",
        "print(b)\n",
        "print(__annotations__['b'])\n",
        "\n",
        "c:str=\"NTT\"\n",
        "print(c)\n",
        "print(__annotations__['c'])\n",
        "\n",
        "a=\"Blr\"\n",
        "print(a)\n"
      ],
      "metadata": {
        "id": "iuNYRt4j18XN",
        "outputId": "aa195043-e285-45e7-fcd6-57f42fdcae07",
        "colab": {
          "base_uri": "https://localhost:8080/"
        }
      },
      "execution_count": 12,
      "outputs": [
        {
          "output_type": "stream",
          "name": "stdout",
          "text": [
            "10\n",
            "<class 'int'>\n",
            "31.3\n",
            "<class 'float'>\n",
            "NTT\n",
            "<class 'str'>\n",
            "Blr\n"
          ]
        }
      ]
    },
    {
      "cell_type": "code",
      "source": [
        "print(\"Mouli Gopi\")"
      ],
      "metadata": {
        "colab": {
          "base_uri": "https://localhost:8080/"
        },
        "id": "7Va8xVaQy8-y",
        "outputId": "0de14ab5-af12-49a3-ba13-72933d69b660"
      },
      "execution_count": null,
      "outputs": [
        {
          "output_type": "stream",
          "name": "stdout",
          "text": [
            "Mouli Gopi\n"
          ]
        }
      ]
    },
    {
      "cell_type": "code",
      "source": [
        "2+3"
      ],
      "metadata": {
        "colab": {
          "base_uri": "https://localhost:8080/"
        },
        "id": "456iibnZml4b",
        "outputId": "98005d39-dad6-427f-90f5-a6fad527d64b"
      },
      "execution_count": null,
      "outputs": [
        {
          "output_type": "execute_result",
          "data": {
            "text/plain": [
              "5"
            ]
          },
          "metadata": {},
          "execution_count": 2
        }
      ]
    },
    {
      "cell_type": "code",
      "source": [
        "5*6"
      ],
      "metadata": {
        "colab": {
          "base_uri": "https://localhost:8080/"
        },
        "id": "MgXADtiwzy9Z",
        "outputId": "5cf0583c-b159-4727-9d96-73b68f942917"
      },
      "execution_count": null,
      "outputs": [
        {
          "output_type": "execute_result",
          "data": {
            "text/plain": [
              "30"
            ]
          },
          "metadata": {},
          "execution_count": 4
        }
      ]
    }
  ]
}