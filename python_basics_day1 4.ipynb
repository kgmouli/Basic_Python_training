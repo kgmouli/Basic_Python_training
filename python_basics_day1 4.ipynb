{
  "nbformat": 4,
  "nbformat_minor": 0,
  "metadata": {
    "colab": {
      "provenance": []
    },
    "kernelspec": {
      "name": "python3",
      "display_name": "Python 3"
    },
    "language_info": {
      "name": "python"
    }
  },
  "cells": [
    {
      "cell_type": "code",
      "execution_count": null,
      "metadata": {
        "id": "fooBKl8FmcO4"
      },
      "outputs": [],
      "source": [
        "print(\"welcome to Python world\")"
      ]
    },
    {
      "cell_type": "code",
      "source": [
        "# Day 4 - For loop\n",
        "\n",
        "for i in \"BLR\":\n",
        "  print(\"Outer loop\")\n",
        "  for j in [10,20,30]:\n",
        "    print(\"Inner loop\")\n",
        "    print(i,j)"
      ],
      "metadata": {
        "id": "3__pYw5_QReo"
      },
      "execution_count": null,
      "outputs": []
    },
    {
      "cell_type": "code",
      "source": [
        "v = ['a','e','i','o','u']\n",
        "\n",
        "st= \"bangalore\"\n",
        "counter = 0\n",
        "\n",
        "for i in \"bangalore\":\n",
        "  if i in v:\n",
        "    counter = counter + 1\n",
        "\n",
        "print(counter)"
      ],
      "metadata": {
        "id": "Y5zvPR0G0sQO"
      },
      "execution_count": null,
      "outputs": []
    },
    {
      "cell_type": "code",
      "source": [
        "# reverse a string using slicing\n",
        "\n",
        "str=input(\"enter a string \")\n",
        "print(str[::])"
      ],
      "metadata": {
        "id": "0H5ChPS12kZ-"
      },
      "execution_count": null,
      "outputs": []
    },
    {
      "cell_type": "code",
      "source": [
        "str=\"NTT\"\n",
        "print(str[:1:-1])"
      ],
      "metadata": {
        "id": "z_nWgVvM4abL"
      },
      "execution_count": null,
      "outputs": []
    },
    {
      "cell_type": "code",
      "source": [
        "str = input (\"enter a string \")\n",
        "rev= str[::-1]\n",
        "\n",
        "if str==rev:\n",
        "  print(\"palindrome\")\n",
        "else:\n",
        "  print(\"not palindrome\")"
      ],
      "metadata": {
        "id": "oC5Iz4u65jo3"
      },
      "execution_count": null,
      "outputs": []
    },
    {
      "cell_type": "code",
      "source": [
        "for i in \"bangalore\":\n",
        "    print(i)\n",
        "    if i== 'g':\n",
        "      break\n",
        "\n",
        "\n",
        "print (\"end of loop\")"
      ],
      "metadata": {
        "id": "mYEEDbVN6qbl"
      },
      "execution_count": null,
      "outputs": []
    },
    {
      "cell_type": "code",
      "source": [
        "str=input(\"Entera number \")\n",
        "if str.startswith(\"91\"):\n",
        "  print(\"India\")\n",
        "else:\n",
        "  print(\"Foreign number\")"
      ],
      "metadata": {
        "id": "VPb6uTiZBVgX"
      },
      "execution_count": null,
      "outputs": []
    },
    {
      "cell_type": "code",
      "source": [
        "#lstrip\n",
        "name=input(\"enter your name \")\n",
        "print(name)\n",
        "print(name.lstrip())"
      ],
      "metadata": {
        "id": "pzXv7XJdICdi"
      },
      "execution_count": null,
      "outputs": []
    },
    {
      "cell_type": "code",
      "source": [
        "url =[\"https://www.myntra.com\",\"https://www.ajio.com\",\"https://www.zee.com\"]\n",
        "for i in url:\n",
        " # print(i.lstrip(\"https://www.\"))\n",
        "  i=i.lstrip(\"hyp:/w.\")\n",
        "  print (i)"
      ],
      "metadata": {
        "id": "mz4yPAezIys0"
      },
      "execution_count": null,
      "outputs": []
    },
    {
      "cell_type": "code",
      "source": [
        "# Day 5\n",
        "\n",
        "url =[\"https://www.myntra.com\",\"https://www.ajio.com\",\"https://www.zee.com\"]\n",
        "for i in url:\n",
        " # print(i.lstrip(\"https://www.\"))\n",
        "  i=i.lstrip(\"shyp:/w.\")\n",
        "  print(i)"
      ],
      "metadata": {
        "id": "BfISRA4cFv_s"
      },
      "execution_count": null,
      "outputs": []
    },
    {
      "cell_type": "code",
      "source": [
        "url =[\"https://www.myntra.com\"]\n",
        "for i in url:\n",
        " i=i.strip(\"htpcom\")\n",
        "print(i)"
      ],
      "metadata": {
        "id": "nkj71C9pGsDS"
      },
      "execution_count": null,
      "outputs": []
    },
    {
      "cell_type": "code",
      "source": [
        "#split\n",
        "s=\"I_live_in_Bangalore\"\n",
        "s.split('_')"
      ],
      "metadata": {
        "colab": {
          "base_uri": "https://localhost:8080/"
        },
        "id": "cPM9NCdoIj6b",
        "outputId": "ae90cb74-5fe4-4151-e69b-05c319a53df5"
      },
      "execution_count": 8,
      "outputs": [
        {
          "output_type": "execute_result",
          "data": {
            "text/plain": [
              "['I', 'live', 'in', 'Bangalore']"
            ]
          },
          "metadata": {},
          "execution_count": 8
        }
      ]
    },
    {
      "cell_type": "code",
      "source": [
        "# list\n",
        "l=[10,20,30]\n",
        "print(l)\n",
        "print(type(l))"
      ],
      "metadata": {
        "colab": {
          "base_uri": "https://localhost:8080/"
        },
        "id": "MeBTUoN9PNry",
        "outputId": "be2c0560-fe14-4271-e6ea-9f59e114795d"
      },
      "execution_count": 9,
      "outputs": [
        {
          "output_type": "stream",
          "name": "stdout",
          "text": [
            "[10, 20, 30]\n",
            "<class 'list'>\n"
          ]
        }
      ]
    },
    {
      "cell_type": "code",
      "source": [
        "# list Indexing\n",
        "\n",
        "l1=[10,20,3,3,15,\"NTT\",[1,2,3]]\n",
        "print(l1[1])\n",
        "print(l1[-1])\n",
        "print(l1[-2])\n",
        "\n",
        "print(l1[6][2])"
      ],
      "metadata": {
        "colab": {
          "base_uri": "https://localhost:8080/"
        },
        "id": "sB2iYWmiQw8o",
        "outputId": "e0514374-f14d-496c-d8ac-c1b51ef01122"
      },
      "execution_count": 17,
      "outputs": [
        {
          "output_type": "stream",
          "name": "stdout",
          "text": [
            "20\n",
            "[1, 2, 3]\n",
            "NTT\n",
            "3\n"
          ]
        }
      ]
    },
    {
      "cell_type": "code",
      "source": [
        "#list slicing\n",
        "\n",
        "l1=[10,20,3,3,15,\"NTT\",[1,2,3]]\n",
        "\n",
        "print(l1[::-1])"
      ],
      "metadata": {
        "colab": {
          "base_uri": "https://localhost:8080/"
        },
        "id": "fIOYGJtjRxbI",
        "outputId": "80a465cd-8771-4efa-baa1-77c69636f079"
      },
      "execution_count": 16,
      "outputs": [
        {
          "output_type": "stream",
          "name": "stdout",
          "text": [
            "[[1, 2, 3], 'NTT', 15, 3, 3, 20, 10]\n"
          ]
        }
      ]
    },
    {
      "cell_type": "code",
      "source": [
        "# concatenation of list\n",
        "l1=[10,20,30]\n",
        "l2=[40,50,60]\n",
        "l3=l1+l2\n",
        "print(l3)"
      ],
      "metadata": {
        "colab": {
          "base_uri": "https://localhost:8080/"
        },
        "id": "8ubS3hSqSc1N",
        "outputId": "7d2cfdc3-5753-4f31-cb11-1aecca9e8442"
      },
      "execution_count": 19,
      "outputs": [
        {
          "output_type": "stream",
          "name": "stdout",
          "text": [
            "[10, 20, 30, 40, 50, 60]\n"
          ]
        }
      ]
    },
    {
      "cell_type": "code",
      "source": [
        "#list itertation\n",
        "\n",
        "l1=[10,20,30,40]\n",
        "for i in l1:\n",
        "  print(i+1)"
      ],
      "metadata": {
        "colab": {
          "base_uri": "https://localhost:8080/"
        },
        "id": "QuZtJsR1TkTw",
        "outputId": "f193ed14-b068-409a-afe8-0768d019627b"
      },
      "execution_count": 21,
      "outputs": [
        {
          "output_type": "stream",
          "name": "stdout",
          "text": [
            "11\n",
            "21\n",
            "31\n",
            "41\n"
          ]
        }
      ]
    },
    {
      "cell_type": "code",
      "source": [
        "#list membership\n",
        "\n",
        "l1=[10,20,30,40]\n",
        "print('10' in l1)\n",
        "print(50 in l1)"
      ],
      "metadata": {
        "colab": {
          "base_uri": "https://localhost:8080/"
        },
        "id": "xzvrgQQlUDMo",
        "outputId": "decde386-bb44-4493-ed00-05cc39651540"
      },
      "execution_count": 23,
      "outputs": [
        {
          "output_type": "stream",
          "name": "stdout",
          "text": [
            "False\n",
            "False\n"
          ]
        }
      ]
    },
    {
      "cell_type": "code",
      "source": [
        "# list deletion\n",
        "\n",
        "l1=[10,20,30,40]\n",
        "print(l1)\n",
        "del l1[1]\n",
        "print(l1)"
      ],
      "metadata": {
        "colab": {
          "base_uri": "https://localhost:8080/"
        },
        "id": "0ma48spnUddH",
        "outputId": "8ae0c0e3-41c1-4ffd-d7b8-1132b6ca41b1"
      },
      "execution_count": 28,
      "outputs": [
        {
          "output_type": "stream",
          "name": "stdout",
          "text": [
            "[10, 20, 30, 40]\n",
            "[10, 30, 40]\n"
          ]
        }
      ]
    },
    {
      "cell_type": "code",
      "source": [
        "# max element\n",
        "\n",
        "l1=[10,20,30,]\n",
        "print(max(l1))\n",
        "\n",
        "l2=['apple','Ball','Cat']\n",
        "print(max(l2))"
      ],
      "metadata": {
        "colab": {
          "base_uri": "https://localhost:8080/"
        },
        "id": "YjFcaa5qVIpA",
        "outputId": "031f72a6-b065-4003-e2b7-cf3c7e491f60"
      },
      "execution_count": 34,
      "outputs": [
        {
          "output_type": "stream",
          "name": "stdout",
          "text": [
            "30\n",
            "apple\n"
          ]
        }
      ]
    },
    {
      "cell_type": "code",
      "source": [
        "l2=['apple','Ball','Mooulisfd']\n",
        "print(max(l2, key=len))"
      ],
      "metadata": {
        "colab": {
          "base_uri": "https://localhost:8080/"
        },
        "id": "27Kkr5vLWPYM",
        "outputId": "7da3dc14-f85b-4f85-87fc-c7ad8f77426c"
      },
      "execution_count": 36,
      "outputs": [
        {
          "output_type": "stream",
          "name": "stdout",
          "text": [
            "Mooulisfd\n"
          ]
        }
      ]
    },
    {
      "cell_type": "code",
      "source": [
        "#Slicing\n",
        "s=\"Python is Fun!\"\n",
        "print(s[-1:-7:-2])"
      ],
      "metadata": {
        "id": "JT-sM1Lkamt1"
      },
      "execution_count": null,
      "outputs": []
    },
    {
      "cell_type": "code",
      "source": [
        "# Day 3 - If condition\n",
        "\n",
        "if 1>5:\n",
        "    print(\"10 is greater than 5\")\n",
        "    print(\"i am inside if condition\")\n",
        "    print(\"i am still inside if condiction\")\n",
        "print(\"i am outside if condition\")"
      ],
      "metadata": {
        "id": "GCmngqAck3zt"
      },
      "execution_count": null,
      "outputs": []
    },
    {
      "cell_type": "code",
      "source": [
        "#Input statement\n",
        "\n",
        "name=input(\"Enter your name\")\n",
        "print(\"Your name is\",name)"
      ],
      "metadata": {
        "id": "mRhu8-kbpRKe"
      },
      "execution_count": null,
      "outputs": []
    },
    {
      "cell_type": "code",
      "source": [
        "No1 = int(input(\"Enter the first number\"))\n",
        "No2 = int(input(\"Enter the second number\"))\n",
        "print(No1+No2)"
      ],
      "metadata": {
        "id": "WwOwBEulpue_"
      },
      "execution_count": null,
      "outputs": []
    },
    {
      "cell_type": "code",
      "source": [
        "No1 = int(input(\"Enter the first number\"))\n",
        "No2 = int(input(\"Enter the second number\"))\n",
        "print(No1+No2)\n",
        "if No1>No2:\n",
        "    print(\"No1 is greater than No2\")\n",
        "else:\n",
        "    print(\"No2 is greater than No1\")"
      ],
      "metadata": {
        "id": "JXHUOjZ-q1bT"
      },
      "execution_count": null,
      "outputs": []
    },
    {
      "cell_type": "code",
      "source": [
        "No1 = float(input(\"Enter the first number\"))\n",
        "No2 = float(input(\"Enter the second number\"))\n",
        "print(No1+No2)"
      ],
      "metadata": {
        "id": "wJReG6QKqQau"
      },
      "execution_count": null,
      "outputs": []
    },
    {
      "cell_type": "code",
      "source": [
        "age=int(input(\"Enter your age \"))\n",
        "if age>=18:\n",
        "  print(\"Welcome to Vote\")\n",
        "  print(\"You are eligible to vote\")\n",
        "else:\n",
        "    print(\"You are not eligible to vote\")"
      ],
      "metadata": {
        "id": "OV_jfgfVrxCe"
      },
      "execution_count": null,
      "outputs": []
    },
    {
      "cell_type": "code",
      "source": [
        "Marks=int(input(\"Enter your marks \"))\n",
        "if Marks>=35:\n",
        "  print(\"You are pass\")\n",
        "else:\n",
        "  print(\"You are fail\")\n"
      ],
      "metadata": {
        "id": "AXfGVT-OtImJ"
      },
      "execution_count": null,
      "outputs": []
    },
    {
      "cell_type": "code",
      "source": [
        "a=int(input(\"enter a no\"))\n",
        "if a%2==0:\n",
        "  print(\"even\")\n",
        "else:\n",
        "  print(\"odd\")"
      ],
      "metadata": {
        "id": "AchtHDZZt0W4"
      },
      "execution_count": null,
      "outputs": []
    },
    {
      "cell_type": "code",
      "source": [
        "#if elif else\n",
        "grade = int(input(\"Enter your grade\"))\n",
        "if grade>=90:\n",
        "  print(\"Grade A\")\n",
        "elif grade>=80:\n",
        "  print(\"Grade B\")\n",
        "elif grade>=70:\n",
        "  print(\"Grade C\")\n",
        "elif grade>=60:\n",
        "  print(\"Grade D\")\n",
        "else:\n",
        "  print(\"fail\")"
      ],
      "metadata": {
        "id": "gsxmU-RSuwJ_"
      },
      "execution_count": null,
      "outputs": []
    },
    {
      "cell_type": "code",
      "source": [
        "#while loop\n",
        "i=2\n",
        "while i<=10:\n",
        "  print(i)\n",
        "  i=i+1"
      ],
      "metadata": {
        "id": "LnbGL6332k-u"
      },
      "execution_count": null,
      "outputs": []
    },
    {
      "cell_type": "code",
      "source": [
        "num=int(input(\"Enter the no \"))\n",
        "i=1\n",
        "while i<=10:\n",
        "  print(num*i)\n",
        "  i=i+1"
      ],
      "metadata": {
        "id": "ixy8PTvs2sx0"
      },
      "execution_count": null,
      "outputs": []
    },
    {
      "cell_type": "code",
      "source": [
        "num=int(input(\"Enter the no \"))\n",
        "i=1\n",
        "while i<=100:\n",
        "  print(i)\n",
        "  i+=3"
      ],
      "metadata": {
        "id": "BbB-HBIF30oL"
      },
      "execution_count": null,
      "outputs": []
    },
    {
      "cell_type": "code",
      "source": [
        "# for loop\n",
        "\n",
        "for i in [10,20,30]:\n",
        "  print(i)"
      ],
      "metadata": {
        "id": "UY3m5yBp5jnt"
      },
      "execution_count": null,
      "outputs": []
    },
    {
      "cell_type": "code",
      "source": [
        "#dynamic\n",
        "\n",
        "a=10\n",
        "print(a)\n",
        "print(id(a))\n",
        "\n",
        "a=3.14\n",
        "print(a)\n",
        "print(id(a))\n",
        "\n",
        "a=\"NTT\"\n",
        "print(a)\n",
        "print(id(a))\n"
      ],
      "metadata": {
        "id": "TX7OqJNLxqdJ"
      },
      "execution_count": null,
      "outputs": []
    },
    {
      "cell_type": "code",
      "source": [
        "#deleting a variable\n",
        "\n",
        "a=20\n",
        "print(a)\n",
        "del a\n",
        "print(a)\n",
        "\n",
        "\n"
      ],
      "metadata": {
        "id": "kmffSBYJzENa"
      },
      "execution_count": null,
      "outputs": []
    },
    {
      "cell_type": "code",
      "source": [
        "#creating multiple variables\n",
        "\n",
        "a,b,c=10, 3.14, \"NTT\"\n",
        "print(a,b,c)"
      ],
      "metadata": {
        "id": "U_E6Cgq_0mhF"
      },
      "execution_count": null,
      "outputs": []
    },
    {
      "cell_type": "code",
      "source": [
        "#assign single values to multiple variables\n",
        "\n",
        "a=b=c=100\n",
        "print(a,b,c)"
      ],
      "metadata": {
        "id": "TKp8UXvl03Bj"
      },
      "execution_count": null,
      "outputs": []
    },
    {
      "cell_type": "code",
      "source": [
        "# variable annotation\n",
        "\n",
        "a:int=10\n",
        "print(a)\n",
        "print(__annotations__['a'])\n",
        "\n",
        "b:float=31.3\n",
        "print(b)\n",
        "print(__annotations__['b'])\n",
        "\n",
        "c:str=\"NTT\"\n",
        "print(c)\n",
        "print(__annotations__['c'])\n",
        "\n",
        "a=\"Blr\"\n",
        "print(a)\n"
      ],
      "metadata": {
        "id": "iuNYRt4j18XN"
      },
      "execution_count": null,
      "outputs": []
    },
    {
      "cell_type": "code",
      "source": [
        "import keyword\n",
        "\n",
        "print(keyword.kwlist)\n",
        "print(len(keyword.kwlist))"
      ],
      "metadata": {
        "id": "Uo98wTZV3Ivj"
      },
      "execution_count": null,
      "outputs": []
    },
    {
      "cell_type": "code",
      "source": [
        "#multiline comments\n",
        "\n",
        "\"\"\" abc\n",
        "abc\"\"\"\n",
        "print(\"multiline\")"
      ],
      "metadata": {
        "id": "fC4pCOsy35d9"
      },
      "execution_count": null,
      "outputs": []
    },
    {
      "cell_type": "code",
      "source": [
        "print(\"Mouli Gopi\")"
      ],
      "metadata": {
        "id": "7Va8xVaQy8-y"
      },
      "execution_count": null,
      "outputs": []
    },
    {
      "cell_type": "code",
      "source": [
        "#String\n",
        "s=\"code yug\"\n",
        "\n",
        "print(s[0:3:1])\n",
        "print(s[2:4])\n",
        "print(s[0:5:2])\n",
        "print(s[-1:-5:-2])\n",
        "print(s[-2:-6:2])\n",
        "print(s[-1::-1])\n",
        "print(s[-3:-11])\n",
        "print(s[-1:-1:-1])"
      ],
      "metadata": {
        "id": "0pOT_nBhDSzy"
      },
      "execution_count": null,
      "outputs": []
    },
    {
      "cell_type": "code",
      "source": [
        "s=\"Bangalore\"\n",
        "print(s[0:8:3])\n",
        "print(s[0::2])\n",
        "print(s[:5:1])\n",
        "print(s[0:5:])\n",
        "print(s[::])\n",
        "print(s[0:0:2])\n",
        "print(s[0:3:0])"
      ],
      "metadata": {
        "id": "9MIuGkCjEcoX"
      },
      "execution_count": null,
      "outputs": []
    },
    {
      "cell_type": "code",
      "source": [
        "#negative slicing\n",
        "\n",
        "s=\"Bangalore\"\n",
        "print(s[-1:-4:-1])\n",
        "print(s[-1:-8:-2])"
      ],
      "metadata": {
        "id": "BoXQo0jrE-x8"
      },
      "execution_count": null,
      "outputs": []
    },
    {
      "cell_type": "code",
      "source": [
        "B2+3"
      ],
      "metadata": {
        "id": "456iibnZml4b"
      },
      "execution_count": null,
      "outputs": []
    },
    {
      "cell_type": "code",
      "source": [
        "5*6"
      ],
      "metadata": {
        "id": "MgXADtiwzy9Z"
      },
      "execution_count": null,
      "outputs": []
    }
  ]
}