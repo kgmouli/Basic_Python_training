{
  "nbformat": 4,
  "nbformat_minor": 0,
  "metadata": {
    "colab": {
      "provenance": []
    },
    "kernelspec": {
      "name": "python3",
      "display_name": "Python 3"
    },
    "language_info": {
      "name": "python"
    }
  },
  "cells": [
    {
      "cell_type": "code",
      "execution_count": null,
      "metadata": {
        "id": "fooBKl8FmcO4"
      },
      "outputs": [],
      "source": [
        "print(\"welcome to Python world\")"
      ]
    },
    {
      "cell_type": "code",
      "source": [
        "# Day 4 - For loop\n",
        "\n",
        "for i in \"BLR\":\n",
        "  print(\"Outer loop\")\n",
        "  for j in [10,20,30]:\n",
        "    print(\"Inner loop\")\n",
        "    print(i,j)"
      ],
      "metadata": {
        "colab": {
          "base_uri": "https://localhost:8080/"
        },
        "id": "3__pYw5_QReo",
        "outputId": "00a5670f-55aa-41b8-9716-0ecdaf6cc1e1"
      },
      "execution_count": 4,
      "outputs": [
        {
          "output_type": "stream",
          "name": "stdout",
          "text": [
            "Outer loop\n",
            "Inner loop\n",
            "B 10\n",
            "Inner loop\n",
            "B 20\n",
            "Inner loop\n",
            "B 30\n",
            "Outer loop\n",
            "Inner loop\n",
            "L 10\n",
            "Inner loop\n",
            "L 20\n",
            "Inner loop\n",
            "L 30\n",
            "Outer loop\n",
            "Inner loop\n",
            "R 10\n",
            "Inner loop\n",
            "R 20\n",
            "Inner loop\n",
            "R 30\n"
          ]
        }
      ]
    },
    {
      "cell_type": "code",
      "source": [
        "v = ['a','e','i','o','u']\n",
        "\n",
        "st= \"bangalore\"\n",
        "counter = 0\n",
        "\n",
        "for i in \"bangalore\":\n",
        "  if i in v:\n",
        "    counter = counter + 1\n",
        "\n",
        "print(counter)"
      ],
      "metadata": {
        "colab": {
          "base_uri": "https://localhost:8080/"
        },
        "id": "Y5zvPR0G0sQO",
        "outputId": "58756736-d9a0-4a2f-c90c-63985d4e0a7b"
      },
      "execution_count": 8,
      "outputs": [
        {
          "output_type": "stream",
          "name": "stdout",
          "text": [
            "4\n"
          ]
        }
      ]
    },
    {
      "cell_type": "code",
      "source": [
        "# reverse a string using slicing\n",
        "\n",
        "str=input(\"enter a string \")\n",
        "print(str[::])"
      ],
      "metadata": {
        "colab": {
          "base_uri": "https://localhost:8080/"
        },
        "id": "0H5ChPS12kZ-",
        "outputId": "9d1b7816-c2ab-42c5-b2e0-eed76200ff0c"
      },
      "execution_count": 11,
      "outputs": [
        {
          "output_type": "stream",
          "name": "stdout",
          "text": [
            "enter a string Applie\n",
            "Applie\n"
          ]
        }
      ]
    },
    {
      "cell_type": "code",
      "source": [
        "str=\"NTT\"\n",
        "print(str[:1:-1])"
      ],
      "metadata": {
        "colab": {
          "base_uri": "https://localhost:8080/"
        },
        "id": "z_nWgVvM4abL",
        "outputId": "61d68af7-5c79-4155-b3fd-380ea42052c7"
      },
      "execution_count": 12,
      "outputs": [
        {
          "output_type": "stream",
          "name": "stdout",
          "text": [
            "T\n"
          ]
        }
      ]
    },
    {
      "cell_type": "code",
      "source": [
        "str = input (\"enter a string \")\n",
        "rev= str[::-1]\n",
        "\n",
        "if str==rev:\n",
        "  print(\"palindrome\")\n",
        "else:\n",
        "  print(\"not palindrome\")"
      ],
      "metadata": {
        "colab": {
          "base_uri": "https://localhost:8080/"
        },
        "id": "oC5Iz4u65jo3",
        "outputId": "ae4dd66f-00af-47af-da87-8fb0b6376173"
      },
      "execution_count": 14,
      "outputs": [
        {
          "output_type": "stream",
          "name": "stdout",
          "text": [
            "enter a string applie\n",
            "not palindrome\n"
          ]
        }
      ]
    },
    {
      "cell_type": "code",
      "source": [
        "for i in \"bangalore\":\n",
        "    print(i)\n",
        "    if i== 'g':\n",
        "      break\n",
        "\n",
        "\n",
        "print (\"end of loop\")"
      ],
      "metadata": {
        "colab": {
          "base_uri": "https://localhost:8080/"
        },
        "id": "mYEEDbVN6qbl",
        "outputId": "f84e06c6-01df-4649-8046-30bfd56f2b1f"
      },
      "execution_count": 22,
      "outputs": [
        {
          "output_type": "stream",
          "name": "stdout",
          "text": [
            "b\n",
            "a\n",
            "n\n",
            "g\n",
            "end of loop\n"
          ]
        }
      ]
    },
    {
      "cell_type": "code",
      "source": [
        "str=input(\"Entera number \")\n",
        "if str.startswith(\"91\"):\n",
        "  print(\"India\")\n",
        "else:\n",
        "  print(\"Foreign number\")"
      ],
      "metadata": {
        "colab": {
          "base_uri": "https://localhost:8080/"
        },
        "id": "VPb6uTiZBVgX",
        "outputId": "99b7b70c-4a18-465e-a6b4-b36e9face208"
      },
      "execution_count": 30,
      "outputs": [
        {
          "output_type": "stream",
          "name": "stdout",
          "text": [
            "Entera number 91978\n",
            "India\n"
          ]
        }
      ]
    },
    {
      "cell_type": "code",
      "source": [
        "#lstrip\n",
        "name=input(\"enter your name \")\n",
        "print(name)\n",
        "print(name.lstrip())"
      ],
      "metadata": {
        "colab": {
          "base_uri": "https://localhost:8080/"
        },
        "id": "pzXv7XJdICdi",
        "outputId": "48d5d532-70de-42d8-b34b-53bdaff89b49"
      },
      "execution_count": 32,
      "outputs": [
        {
          "output_type": "stream",
          "name": "stdout",
          "text": [
            "enter your name    Mouli\n",
            "   Mouli\n",
            "Mouli\n"
          ]
        }
      ]
    },
    {
      "cell_type": "code",
      "source": [
        "url =[\"https://www.myntra.com\",\"https://www.ajio.com\",\"https://www.zee.com\"]\n",
        "for i in url:\n",
        " # print(i.lstrip(\"https://www.\"))\n",
        "  i=i.lstrip(\"hyp:/w.\")\n",
        "  print (i)"
      ],
      "metadata": {
        "colab": {
          "base_uri": "https://localhost:8080/"
        },
        "id": "mz4yPAezIys0",
        "outputId": "7ad7e1b7-e9cf-41d3-cb1b-81597223368d"
      },
      "execution_count": 52,
      "outputs": [
        {
          "output_type": "stream",
          "name": "stdout",
          "text": [
            "ttps://www.myntra.com\n",
            "ttps://www.ajio.com\n",
            "ttps://www.zee.com\n"
          ]
        }
      ]
    },
    {
      "cell_type": "code",
      "source": [
        "#Slicing\n",
        "s=\"Python is Fun!\"\n",
        "print(s[-1:-7:-2])"
      ],
      "metadata": {
        "id": "JT-sM1Lkamt1"
      },
      "execution_count": null,
      "outputs": []
    },
    {
      "cell_type": "code",
      "source": [
        "# Day 3 - If condition\n",
        "\n",
        "if 1>5:\n",
        "    print(\"10 is greater than 5\")\n",
        "    print(\"i am inside if condition\")\n",
        "    print(\"i am still inside if condiction\")\n",
        "print(\"i am outside if condition\")"
      ],
      "metadata": {
        "id": "GCmngqAck3zt"
      },
      "execution_count": null,
      "outputs": []
    },
    {
      "cell_type": "code",
      "source": [
        "#Input statement\n",
        "\n",
        "name=input(\"Enter your name\")\n",
        "print(\"Your name is\",name)"
      ],
      "metadata": {
        "id": "mRhu8-kbpRKe"
      },
      "execution_count": null,
      "outputs": []
    },
    {
      "cell_type": "code",
      "source": [
        "No1 = int(input(\"Enter the first number\"))\n",
        "No2 = int(input(\"Enter the second number\"))\n",
        "print(No1+No2)"
      ],
      "metadata": {
        "id": "WwOwBEulpue_"
      },
      "execution_count": null,
      "outputs": []
    },
    {
      "cell_type": "code",
      "source": [
        "No1 = int(input(\"Enter the first number\"))\n",
        "No2 = int(input(\"Enter the second number\"))\n",
        "print(No1+No2)\n",
        "if No1>No2:\n",
        "    print(\"No1 is greater than No2\")\n",
        "else:\n",
        "    print(\"No2 is greater than No1\")"
      ],
      "metadata": {
        "id": "JXHUOjZ-q1bT"
      },
      "execution_count": null,
      "outputs": []
    },
    {
      "cell_type": "code",
      "source": [
        "No1 = float(input(\"Enter the first number\"))\n",
        "No2 = float(input(\"Enter the second number\"))\n",
        "print(No1+No2)"
      ],
      "metadata": {
        "id": "wJReG6QKqQau"
      },
      "execution_count": null,
      "outputs": []
    },
    {
      "cell_type": "code",
      "source": [
        "age=int(input(\"Enter your age \"))\n",
        "if age>=18:\n",
        "  print(\"Welcome to Vote\")\n",
        "  print(\"You are eligible to vote\")\n",
        "else:\n",
        "    print(\"You are not eligible to vote\")"
      ],
      "metadata": {
        "id": "OV_jfgfVrxCe"
      },
      "execution_count": null,
      "outputs": []
    },
    {
      "cell_type": "code",
      "source": [
        "Marks=int(input(\"Enter your marks \"))\n",
        "if Marks>=35:\n",
        "  print(\"You are pass\")\n",
        "else:\n",
        "  print(\"You are fail\")\n"
      ],
      "metadata": {
        "id": "AXfGVT-OtImJ"
      },
      "execution_count": null,
      "outputs": []
    },
    {
      "cell_type": "code",
      "source": [
        "a=int(input(\"enter a no\"))\n",
        "if a%2==0:\n",
        "  print(\"even\")\n",
        "else:\n",
        "  print(\"odd\")"
      ],
      "metadata": {
        "id": "AchtHDZZt0W4"
      },
      "execution_count": null,
      "outputs": []
    },
    {
      "cell_type": "code",
      "source": [
        "#if elif else\n",
        "grade = int(input(\"Enter your grade\"))\n",
        "if grade>=90:\n",
        "  print(\"Grade A\")\n",
        "elif grade>=80:\n",
        "  print(\"Grade B\")\n",
        "elif grade>=70:\n",
        "  print(\"Grade C\")\n",
        "elif grade>=60:\n",
        "  print(\"Grade D\")\n",
        "else:\n",
        "  print(\"fail\")"
      ],
      "metadata": {
        "id": "gsxmU-RSuwJ_"
      },
      "execution_count": null,
      "outputs": []
    },
    {
      "cell_type": "code",
      "source": [
        "#while loop\n",
        "i=2\n",
        "while i<=10:\n",
        "  print(i)\n",
        "  i=i+1"
      ],
      "metadata": {
        "id": "LnbGL6332k-u"
      },
      "execution_count": null,
      "outputs": []
    },
    {
      "cell_type": "code",
      "source": [
        "num=int(input(\"Enter the no \"))\n",
        "i=1\n",
        "while i<=10:\n",
        "  print(num*i)\n",
        "  i=i+1"
      ],
      "metadata": {
        "id": "ixy8PTvs2sx0"
      },
      "execution_count": null,
      "outputs": []
    },
    {
      "cell_type": "code",
      "source": [
        "num=int(input(\"Enter the no \"))\n",
        "i=1\n",
        "while i<=100:\n",
        "  print(i)\n",
        "  i+=3"
      ],
      "metadata": {
        "id": "BbB-HBIF30oL"
      },
      "execution_count": null,
      "outputs": []
    },
    {
      "cell_type": "code",
      "source": [
        "# for loop\n",
        "\n",
        "for i in [10,20,30]:\n",
        "  print(i)"
      ],
      "metadata": {
        "id": "UY3m5yBp5jnt",
        "outputId": "7ef2cad8-b338-47a6-afaf-36d03fa7390b",
        "colab": {
          "base_uri": "https://localhost:8080/"
        }
      },
      "execution_count": null,
      "outputs": [
        {
          "output_type": "stream",
          "name": "stdout",
          "text": [
            "10\n",
            "20\n",
            "30\n"
          ]
        }
      ]
    },
    {
      "cell_type": "code",
      "source": [
        "#dynamic\n",
        "\n",
        "a=10\n",
        "print(a)\n",
        "print(id(a))\n",
        "\n",
        "a=3.14\n",
        "print(a)\n",
        "print(id(a))\n",
        "\n",
        "a=\"NTT\"\n",
        "print(a)\n",
        "print(id(a))\n"
      ],
      "metadata": {
        "id": "TX7OqJNLxqdJ"
      },
      "execution_count": null,
      "outputs": []
    },
    {
      "cell_type": "code",
      "source": [
        "#deleting a variable\n",
        "\n",
        "a=20\n",
        "print(a)\n",
        "del a\n",
        "print(a)\n",
        "\n",
        "\n"
      ],
      "metadata": {
        "id": "kmffSBYJzENa"
      },
      "execution_count": null,
      "outputs": []
    },
    {
      "cell_type": "code",
      "source": [
        "#creating multiple variables\n",
        "\n",
        "a,b,c=10, 3.14, \"NTT\"\n",
        "print(a,b,c)"
      ],
      "metadata": {
        "id": "U_E6Cgq_0mhF"
      },
      "execution_count": null,
      "outputs": []
    },
    {
      "cell_type": "code",
      "source": [
        "#assign single values to multiple variables\n",
        "\n",
        "a=b=c=100\n",
        "print(a,b,c)"
      ],
      "metadata": {
        "id": "TKp8UXvl03Bj"
      },
      "execution_count": null,
      "outputs": []
    },
    {
      "cell_type": "code",
      "source": [
        "# variable annotation\n",
        "\n",
        "a:int=10\n",
        "print(a)\n",
        "print(__annotations__['a'])\n",
        "\n",
        "b:float=31.3\n",
        "print(b)\n",
        "print(__annotations__['b'])\n",
        "\n",
        "c:str=\"NTT\"\n",
        "print(c)\n",
        "print(__annotations__['c'])\n",
        "\n",
        "a=\"Blr\"\n",
        "print(a)\n"
      ],
      "metadata": {
        "id": "iuNYRt4j18XN"
      },
      "execution_count": null,
      "outputs": []
    },
    {
      "cell_type": "code",
      "source": [
        "import keyword\n",
        "\n",
        "print(keyword.kwlist)\n",
        "print(len(keyword.kwlist))"
      ],
      "metadata": {
        "id": "Uo98wTZV3Ivj"
      },
      "execution_count": null,
      "outputs": []
    },
    {
      "cell_type": "code",
      "source": [
        "#multiline comments\n",
        "\n",
        "\"\"\" abc\n",
        "abc\"\"\"\n",
        "print(\"multiline\")"
      ],
      "metadata": {
        "id": "fC4pCOsy35d9"
      },
      "execution_count": null,
      "outputs": []
    },
    {
      "cell_type": "code",
      "source": [
        "print(\"Mouli Gopi\")"
      ],
      "metadata": {
        "id": "7Va8xVaQy8-y"
      },
      "execution_count": null,
      "outputs": []
    },
    {
      "cell_type": "code",
      "source": [
        "#String\n",
        "s=\"code yug\"\n",
        "\n",
        "print(s[0:3:1])\n",
        "print(s[2:4])\n",
        "print(s[0:5:2])\n",
        "print(s[-1:-5:-2])\n",
        "print(s[-2:-6:2])\n",
        "print(s[-1::-1])\n",
        "print(s[-3:-11])\n",
        "print(s[-1:-1:-1])"
      ],
      "metadata": {
        "id": "0pOT_nBhDSzy"
      },
      "execution_count": null,
      "outputs": []
    },
    {
      "cell_type": "code",
      "source": [
        "s=\"Bangalore\"\n",
        "print(s[0:8:3])\n",
        "print(s[0::2])\n",
        "print(s[:5:1])\n",
        "print(s[0:5:])\n",
        "print(s[::])\n",
        "print(s[0:0:2])\n",
        "print(s[0:3:0])"
      ],
      "metadata": {
        "id": "9MIuGkCjEcoX"
      },
      "execution_count": null,
      "outputs": []
    },
    {
      "cell_type": "code",
      "source": [
        "#negative slicing\n",
        "\n",
        "s=\"Bangalore\"\n",
        "print(s[-1:-4:-1])\n",
        "print(s[-1:-8:-2])"
      ],
      "metadata": {
        "id": "BoXQo0jrE-x8"
      },
      "execution_count": null,
      "outputs": []
    },
    {
      "cell_type": "code",
      "source": [
        "B2+3"
      ],
      "metadata": {
        "id": "456iibnZml4b"
      },
      "execution_count": null,
      "outputs": []
    },
    {
      "cell_type": "code",
      "source": [
        "5*6"
      ],
      "metadata": {
        "id": "MgXADtiwzy9Z"
      },
      "execution_count": null,
      "outputs": []
    }
  ]
}